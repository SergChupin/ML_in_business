{
 "cells": [
  {
   "cell_type": "markdown",
   "id": "ebeb1322",
   "metadata": {},
   "source": [
    "### Тестрирование с использованием API"
   ]
  },
  {
   "cell_type": "code",
   "execution_count": 1,
   "id": "2eddbbf4",
   "metadata": {},
   "outputs": [],
   "source": [
    "import pandas as pd\n",
    "from sklearn.metrics import roc_auc_score,roc_curve\n",
    "from urllib import request, parse\n",
    "import requests\n",
    "\n",
    "X_test = pd.read_csv(\"X_test.csv\")\n",
    "y_test = pd.read_csv(\"y_test.csv\")"
   ]
  },
  {
   "cell_type": "code",
   "execution_count": 2,
   "id": "bdb0c4b0",
   "metadata": {},
   "outputs": [
    {
     "data": {
      "text/html": [
       "<div>\n",
       "<style scoped>\n",
       "    .dataframe tbody tr th:only-of-type {\n",
       "        vertical-align: middle;\n",
       "    }\n",
       "\n",
       "    .dataframe tbody tr th {\n",
       "        vertical-align: top;\n",
       "    }\n",
       "\n",
       "    .dataframe thead th {\n",
       "        text-align: right;\n",
       "    }\n",
       "</style>\n",
       "<table border=\"1\" class=\"dataframe\">\n",
       "  <thead>\n",
       "    <tr style=\"text-align: right;\">\n",
       "      <th></th>\n",
       "      <th>age</th>\n",
       "      <th>hypertension</th>\n",
       "      <th>heart_disease</th>\n",
       "      <th>smoking_status</th>\n",
       "    </tr>\n",
       "  </thead>\n",
       "  <tbody>\n",
       "    <tr>\n",
       "      <th>0</th>\n",
       "      <td>52.0</td>\n",
       "      <td>0</td>\n",
       "      <td>0</td>\n",
       "      <td>0.0</td>\n",
       "    </tr>\n",
       "    <tr>\n",
       "      <th>1</th>\n",
       "      <td>59.0</td>\n",
       "      <td>0</td>\n",
       "      <td>0</td>\n",
       "      <td>0.0</td>\n",
       "    </tr>\n",
       "    <tr>\n",
       "      <th>2</th>\n",
       "      <td>16.0</td>\n",
       "      <td>0</td>\n",
       "      <td>0</td>\n",
       "      <td>1.0</td>\n",
       "    </tr>\n",
       "  </tbody>\n",
       "</table>\n",
       "</div>"
      ],
      "text/plain": [
       "    age  hypertension  heart_disease  smoking_status\n",
       "0  52.0             0              0             0.0\n",
       "1  59.0             0              0             0.0\n",
       "2  16.0             0              0             1.0"
      ]
     },
     "execution_count": 2,
     "metadata": {},
     "output_type": "execute_result"
    }
   ],
   "source": [
    "X_test[['age', 'hypertension', 'heart_disease', 'smoking_status']].head(3)"
   ]
  },
  {
   "cell_type": "code",
   "execution_count": 3,
   "id": "be6d1026",
   "metadata": {},
   "outputs": [],
   "source": [
    "import urllib.request\n",
    "import json      \n",
    "\n",
    "def get_prediction(x):\n",
    "    age, hypertension, heart_disease, smoking_status = x\n",
    "    body = {'age': age, \n",
    "            'hypertension': hypertension, \n",
    "            'heart_disease': heart_disease, \n",
    "            'smoking_status': smoking_status} \n",
    "    myurl = \"http://0.0.0.0:8180/predict\"\n",
    "    req = urllib.request.Request(myurl)\n",
    "    req.add_header('Content-Type', 'application/json; charset=utf-8')\n",
    "    jsondata = json.dumps(body)\n",
    "    jsondataasbytes = jsondata.encode('utf-8')\n",
    "    req.add_header('Content-Length', len(jsondataasbytes))\n",
    "    response = urllib.request.urlopen(req, jsondataasbytes)\n",
    "    return json.loads(response.read())['predictions']"
   ]
  },
  {
   "cell_type": "code",
   "execution_count": 4,
   "id": "73bf1525",
   "metadata": {},
   "outputs": [],
   "source": [
    "get_prediction((55, 1, 0, 1))"
   ]
  },
  {
   "cell_type": "code",
   "execution_count": 5,
   "id": "790e6b8a",
   "metadata": {},
   "outputs": [],
   "source": [
    "%%time\n",
    "predictions = X_test[['age', 'hypertension', \n",
    "                      'heart_disease', 'smoking_status']].iloc[:100].apply(lambda x: get_prediction(x), 1)"
   ]
  },
  {
   "cell_type": "code",
   "execution_count": 6,
   "id": "f5637c83",
   "metadata": {},
   "outputs": [],
   "source": [
    "roc_auc_score(y_score=predictions.values, y_true=y_test.iloc[:100])"
   ]
  },
  {
   "cell_type": "code",
   "execution_count": null,
   "id": "465766b8",
   "metadata": {},
   "outputs": [],
   "source": []
  }
 ],
 "metadata": {
  "kernelspec": {
   "display_name": "Python 3",
   "language": "python",
   "name": "python3"
  },
  "language_info": {
   "codemirror_mode": {
    "name": "ipython",
    "version": 3
   },
   "file_extension": ".py",
   "mimetype": "text/x-python",
   "name": "python",
   "nbconvert_exporter": "python",
   "pygments_lexer": "ipython3",
   "version": "3.9.0"
  }
 },
 "nbformat": 4,
 "nbformat_minor": 5
}
